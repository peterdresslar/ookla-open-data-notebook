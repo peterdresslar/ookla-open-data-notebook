{
 "cells": [
  {
   "cell_type": "markdown",
   "id": "26de7800-49b0-4fb1-b722-81e0c39cc0e6",
   "metadata": {},
   "source": [
    "> This workbook was built by Pacific Broadband and Digital Equity (https://pacificbroadband.org) to explore ookla-open-data speeds specific to the United States Pacific territories. The beginning of the workbook in particular borrows from the tutorials at https://github.com/teamookla/ookla-open-data. Ookla stores its open data in quarterly files online at an S3 location. Parsing out the data from millions and millions of quarterly speed reports into small slices takes significant time, especially just to read the data into a geopandas dataframe. Once that is done, this workbook generates an output geojson file and a data summary to text. "
   ]
  },
  {
   "cell_type": "markdown",
   "id": "0046578d-699e-4201-b261-8cd5ba193af9",
   "metadata": {},
   "source": [
    "The following cell is for running on GCP managed-notebook. Recommend n1-highmem-4 or higher. Installs on other platforms may vary."
   ]
  },
  {
   "cell_type": "code",
   "execution_count": null,
   "id": "3c67d153-10af-4877-9d80-05ec7225bdd5",
   "metadata": {},
   "outputs": [],
   "source": [
    "pip install geopandas adjustText matplotlib"
   ]
  },
  {
   "cell_type": "markdown",
   "id": "ffc25da3-5e03-4dbc-ad29-3edae0f6cc95",
   "metadata": {},
   "source": [
    "Imports"
   ]
  },
  {
   "cell_type": "code",
   "execution_count": null,
   "id": "b987f475",
   "metadata": {},
   "outputs": [],
   "source": [
    "%matplotlib inline\n",
    "\n",
    "from datetime import datetime\n",
    "\n",
    "import geopandas as gp\n",
    "import matplotlib\n",
    "import matplotlib.pyplot as plt\n",
    "import pandas as pd\n",
    "import numpy as np\n",
    "\n",
    "from shapely.geometry import Point\n",
    "from adjustText import adjust_text"
   ]
  },
  {
   "cell_type": "markdown",
   "id": "c43514d7-c90c-4886-9674-29696c59c279",
   "metadata": {},
   "source": [
    "The following cell defines a function to create the S3 download link using the input year and quarter. Note that all downloaded files contain all places in the world."
   ]
  },
  {
   "cell_type": "code",
   "execution_count": null,
   "id": "5c91dd24",
   "metadata": {},
   "outputs": [],
   "source": [
    "def quarter_start(year: int, q: int) -> datetime:\n",
    "    if not 1 <= q <= 4:\n",
    "        raise ValueError(\"Quarter must be within [1, 2, 3, 4]\")\n",
    "\n",
    "    month = [1, 4, 7, 10]\n",
    "    return datetime(year, month[q - 1], 1)\n",
    "\n",
    "\n",
    "def get_tile_url(service_type: str, year: int, q: int) -> str:\n",
    "    dt = quarter_start(year, q)\n",
    "\n",
    "    base_url = \"https://ookla-open-data.s3-us-west-2.amazonaws.com/shapefiles/performance\"\n",
    "    url = f\"{base_url}/type%3D{service_type}/year%3D{dt:%Y}/quarter%3D{q}/{dt:%Y-%m-%d}_performance_{service_type}_tiles.zip\"\n",
    "    return url"
   ]
  },
  {
   "cell_type": "markdown",
   "id": "02d13a8a-eb2d-41f6-97f5-8f8a05990117",
   "metadata": {},
   "source": [
    "Adjust the year and quarter in the following cell. Note that `place` is not used dynamically to get the quadkeys (it could be) and thus the script needs to be adjusted for whatever place is selected. Place at the moment just affects filename, as does the directory."
   ]
  },
  {
   "cell_type": "code",
   "execution_count": null,
   "id": "cbf8eb30-24c2-4a48-962a-58d934252b0c",
   "metadata": {},
   "outputs": [],
   "source": [
    "directory = 'geojson-datasets'\n",
    "place = 'guam'\n",
    "year = 2023\n",
    "quarter = 1"
   ]
  },
  {
   "cell_type": "code",
   "execution_count": null,
   "id": "37e4b099",
   "metadata": {},
   "outputs": [],
   "source": [
    "tile_url = get_tile_url(\"fixed\", year, quarter)\n",
    "tile_url"
   ]
  },
  {
   "cell_type": "code",
   "execution_count": null,
   "id": "fe72bc3f",
   "metadata": {},
   "outputs": [],
   "source": [
    "tiles = gp.read_file(tile_url)"
   ]
  },
  {
   "cell_type": "code",
   "execution_count": null,
   "id": "23b2fe4b",
   "metadata": {},
   "outputs": [],
   "source": [
    "tiles.head()"
   ]
  },
  {
   "cell_type": "code",
   "execution_count": null,
   "id": "2f0843a3",
   "metadata": {},
   "outputs": [],
   "source": [
    "tiles_size = tiles.size\n",
    "tiles_size"
   ]
  },
  {
   "cell_type": "markdown",
   "id": "641e5ce5-4a98-4873-a5c3-fb852bb936e5",
   "metadata": {},
   "source": [
    "The following cell filters the dataframe's rows based upon the quadkeys listed, in order to \"geofence\" out some section of earth.\n",
    "\n",
    "Here are some representative quadkeys from https://labs.mapbox.com/what-the-tile/\n",
    "\n",
    "* guam 13320330, 13320331\n",
    "* cnmi 1332031\n",
    "* am-samoa 200021301, 20002131\n",
    "* usvi 0323002311, 0323003200, 032300213033, 032300213122, 032300213123, 0323002131323, 0323002131332, 0323002131333, 0323003020222, 0323002133111, 03230021313302, 03230021313303, 03230021313312, 03230021313313\n",
    "* pr 03230020, 03230022, 032300212, 032300230, 03230021322, 03230021320, 03230021302\n",
    "* oahu 022211110, 022211111, 022211113, 022211112\n",
    "* hawaii 022033, 022122, 022211, 022300, 03230021322, \n",
    "* bozeman-mt 0213202213, 0213202302\n",
    "* palau-all 1323313, 1323331, 1323333\n",
    "* yap-fsm-all 13322, 13323, 133320, 133322, 133233 (approximate quadkeys)     \n"
   ]
  },
  {
   "cell_type": "code",
   "execution_count": null,
   "id": "d211cf6b",
   "metadata": {},
   "outputs": [],
   "source": [
    "tiles1 = tiles[tiles['quadkey'].str.startswith('13320330')\n",
    "               | tiles['quadkey'].str.startswith('13320331')\n",
    "              ]"
   ]
  },
  {
   "cell_type": "code",
   "execution_count": null,
   "id": "9c7c92a6",
   "metadata": {},
   "outputs": [],
   "source": [
    "tiles1.head()"
   ]
  },
  {
   "cell_type": "code",
   "execution_count": null,
   "id": "8ff8f66c",
   "metadata": {},
   "outputs": [],
   "source": [
    "tiles1_size = tiles1.size\n",
    "tiles1_size"
   ]
  },
  {
   "cell_type": "code",
   "execution_count": null,
   "id": "ecd0833d-b599-4575-bd08-8a9e6c6bf244",
   "metadata": {},
   "outputs": [],
   "source": [
    "outfile = (f'{directory}/{place}_ookla_{year}Q{quarter}.geojson')\n",
    "outfile"
   ]
  },
  {
   "cell_type": "code",
   "execution_count": null,
   "id": "bde2fec4",
   "metadata": {},
   "outputs": [],
   "source": [
    "tiles1.to_file(outfile, driver='GeoJSON')"
   ]
  },
  {
   "cell_type": "code",
   "execution_count": null,
   "id": "ca9e829c",
   "metadata": {},
   "outputs": [],
   "source": [
    "download = (tiles1['avg_d_kbps'].mean()) / 1000\n",
    "upload = (tiles1['avg_u_kbps'].mean()) / 1000\n",
    "latency = (tiles1['avg_lat_ms'].mean())\n",
    "tests = (tiles1['tests']).sum()\n",
    "devices = (tiles1['devices'].sum())\n",
    "print(f'{place} {year}Q{quarter} Stats...\\n Download (mean Mbps) {download}\\n Upload (mean Mbps) {upload}\\n Latency (mean ms) {latency}\\n Tests {tests} Devices {devices}\\n')"
   ]
  },
  {
   "cell_type": "code",
   "execution_count": null,
   "id": "51d03590-d37f-4f49-b410-d20ad49aea76",
   "metadata": {},
   "outputs": [],
   "source": []
  }
 ],
 "metadata": {
  "environment": {
   "kernel": "python3",
   "name": "tf2-gpu.2-8.m107",
   "type": "gcloud",
   "uri": "gcr.io/deeplearning-platform-release/tf2-gpu.2-8:m107"
  },
  "kernelspec": {
   "display_name": "Python 3 (ipykernel)",
   "language": "python",
   "name": "python3"
  },
  "language_info": {
   "codemirror_mode": {
    "name": "ipython",
    "version": 3
   },
   "file_extension": ".py",
   "mimetype": "text/x-python",
   "name": "python",
   "nbconvert_exporter": "python",
   "pygments_lexer": "ipython3",
   "version": "3.7.12"
  }
 },
 "nbformat": 4,
 "nbformat_minor": 5
}
